{
 "cells": [
  {
   "cell_type": "markdown",
   "id": "b6cc885f",
   "metadata": {},
   "source": [
    "Name: Alexis Jordan\n",
    "Project: A* for 8 Queens"
   ]
  },
  {
   "cell_type": "code",
   "execution_count": 1,
   "id": "61de5ce9",
   "metadata": {},
   "outputs": [],
   "source": [
    "import copy\n",
    "import heapq\n",
    "import numpy as np"
   ]
  },
  {
   "cell_type": "code",
   "execution_count": 2,
   "id": "da857f7d",
   "metadata": {},
   "outputs": [],
   "source": [
    "class Node:\n",
    "    \n",
    "    \"\"\"\n",
    "    The node class. \n",
    "    To instantiate a node, it's required to pass the puzzle, the parent node, the path cost and the heuristic\n",
    "    For better readability, I also created the appropriate getters and setters\n",
    "    \"\"\"\n",
    "    \n",
    "    def __init__(self, puzzle, parent, g, h):\n",
    "        self.puzzle = puzzle\n",
    "        self.parent = parent\n",
    "        self.g = g\n",
    "        self.h = h\n",
    "        self.f = g + h\n",
    "        \n",
    "    def get_parent(self):\n",
    "        return self.parent\n",
    "    \n",
    "    def get_g(self):\n",
    "        return self.g\n",
    "    \n",
    "    def get_h(self):\n",
    "        return self.h\n",
    "    \n",
    "    def set_h(self, h):\n",
    "        self.h = h\n",
    "        \n",
    "    def get_f(self):\n",
    "        return self.f\n",
    "    \n",
    "    def get_path(self):                              # will return the path of the from the root to this node\n",
    "        node, path = self, []\n",
    "        while node:\n",
    "            path.append(node)\n",
    "            node = node.parent\n",
    "        return reversed(path)"
   ]
  },
  {
   "cell_type": "code",
   "execution_count": 3,
   "id": "38ff2937",
   "metadata": {},
   "outputs": [],
   "source": [
    "def find_blank(puzzle):\n",
    "    \n",
    "    \"\"\"\n",
    "    Finding the blank in the puzzle\n",
    "    \"\"\"\n",
    "    for i in range(0,3):\n",
    "        for j in range(0, 3):\n",
    "            if puzzle[i][j] == 0:\n",
    "                return i, j"
   ]
  },
  {
   "cell_type": "code",
   "execution_count": 4,
   "id": "7be18ff6",
   "metadata": {},
   "outputs": [],
   "source": [
    "def get_neighbors(node):\n",
    "    \n",
    "    \n",
    "    blank = 0                                              # tell the function what the blank is\n",
    "    \n",
    "    blank_row, blank_col = find_blank(node.puzzle)        # find the location of the blank node\n",
    "    \n",
    "    up = blank_row - 1                                    # calculate the appropriate indices\n",
    "    down = blank_row + 1\n",
    "    right = blank_col + 1\n",
    "    left = blank_col - 1\n",
    "    \n",
    "    neighbor_states = {\"U\": [], \"D\": [], \"L\": [], \"R\": []}         # store the neighbors in a dictionary\n",
    "    \n",
    "    if(up >= 0):                                                   # if the move is appropriate, make it and take the next step\n",
    "        valueUp = copy.deepcopy(node.puzzle)\n",
    "        valueUp[blank_row][blank_col] = valueUp[up][blank_col]\n",
    "        valueUp[up][blank_col] = 0\n",
    "        neighbor_states[\"U\"].append(valueUp)\n",
    "    \n",
    "    if(down <= 2):\n",
    "        valueDown = copy.deepcopy(node.puzzle)\n",
    "        valueDown[blank_row][blank_col] = valueDown[down][blank_col]\n",
    "        valueDown[down][blank_col] = 0\n",
    "        neighbor_states[\"D\"].append(valueDown)\n",
    "    \n",
    "    if(left >= 0):\n",
    "        valueLeft = copy.deepcopy(node.puzzle)\n",
    "        valueLeft[blank_row][blank_col] = valueLeft[blank_row][left]\n",
    "        valueLeft[blank_row][left] = 0\n",
    "        neighbor_states[\"L\"].append(valueLeft)\n",
    "    \n",
    "    if(right <= 2):\n",
    "        valueRight = copy.deepcopy(node.puzzle)\n",
    "        valueRight[blank_row][blank_col] = valueRight[blank_row][right]\n",
    "        valueRight[blank_row][right] = 0\n",
    "        neighbor_states[\"R\"].append(valueRight)\n",
    "    \n",
    "    return neighbor_states\n",
    "    "
   ]
  },
  {
   "cell_type": "code",
   "execution_count": 5,
   "id": "8fb8cc3b",
   "metadata": {},
   "outputs": [],
   "source": [
    "def open_list_check(node, open_list):\n",
    "    \n",
    "    \"\"\"\n",
    "    Check to see if the node is already in the open list\n",
    "    \"\"\"\n",
    "    passed_puzzle = np.array(node.puzzle)                # for ease, convert to np array\n",
    "    \n",
    "    for i in open_list:\n",
    "        heuristic, node = heapq.heappop(open_list)              # pop the node off for comparison\n",
    "        list_puzzle = np.array(node.puzzle)\n",
    "        heapq.heappush(open_list, (heuristic, node))            # push the node back on for later\n",
    "        if (passed_puzzle == list_puzzle).all():\n",
    "            return True\n",
    "        else:\n",
    "            return False"
   ]
  },
  {
   "cell_type": "code",
   "execution_count": 6,
   "id": "c60209f6",
   "metadata": {},
   "outputs": [],
   "source": [
    "def calc_heuristic(puzzle, goal):\n",
    "    \n",
    "    \"\"\"\n",
    "    Chosen Heuristic: Number of Misplaced Tiles\n",
    "    \"\"\"\n",
    "    \n",
    "    h = 0\n",
    "    goal = np.array(goal)             # convert to np array for ease\n",
    "    \n",
    "    for i in range(0, 3):\n",
    "        for j in range(0, 3):\n",
    "            if puzzle[i][j] != goal[i][j] and puzzle[i][j] != None:         # count number of misplaced tiles\n",
    "                h += 1\n",
    "    return h"
   ]
  },
  {
   "cell_type": "code",
   "execution_count": 7,
   "id": "e9faeac3",
   "metadata": {},
   "outputs": [],
   "source": [
    "def count_inversion(puzzle):\n",
    "    \n",
    "    \"\"\"\n",
    "    This function counts the number of inversions within the puzzle\n",
    "    \"\"\"\n",
    "    count = 0\n",
    "    empty_value = 0 \n",
    "    for i in range(0, 9):                  # loop through the puzzle\n",
    "        for j in range(i + 1, 9):\n",
    "            if puzzle[i] != empty_value and puzzle[j] != empty_value and puzzle[i] > puzzle[j]:  # if the tile is not blank, and the tile on the right is larger\n",
    "                count += 1  # increment the count\n",
    "    return count"
   ]
  },
  {
   "cell_type": "code",
   "execution_count": 8,
   "id": "1722b079",
   "metadata": {},
   "outputs": [],
   "source": [
    "def is_solvable(puzzle):\n",
    "    \n",
    "    \"\"\"\n",
    "    We iterate through the puzzles itself calculate the the total number of inversions\n",
    "    If this number is not even then we can say that the puzzle is not solvable\n",
    "    \"\"\"\n",
    "    total_count = count_inversion([i for row in puzzle for i in row])    # count the number of inversions in each row\n",
    "    return (total_count % 2 == 0)                                        # will return false if odd (not solvable)"
   ]
  },
  {
   "cell_type": "code",
   "execution_count": 9,
   "id": "4cce83db",
   "metadata": {},
   "outputs": [],
   "source": [
    "def goal_test(node, goal):\n",
    "    \n",
    "    \"\"\"\n",
    "    Check to see if the two arrays are equivalent.\n",
    "    Convert them to np arrays for this\n",
    "    \"\"\"\n",
    "    \n",
    "    node = np.array(node.puzzle)\n",
    "    goal = np.array(goal)\n",
    "    \n",
    "    return (node == goal).all()"
   ]
  },
  {
   "cell_type": "code",
   "execution_count": 10,
   "id": "09190aa6",
   "metadata": {},
   "outputs": [],
   "source": [
    "def expandNode(node, open_list, closed_list, goal):\n",
    "    \n",
    "    \"\"\"\n",
    "    Take in the open list, closed list, node and goal\n",
    "    Generate neighbors\n",
    "    Add promising neighbors to the open list if it is not already in the open/closed list\n",
    "    \"\"\"\n",
    "    \n",
    "    neighbor_states = get_neighbors(node)\n",
    "    \n",
    "    children = list(neighbor_states.values())\n",
    "    \n",
    "    for i in range(0, len(children)):           # loop through all of the children (puzzles)\n",
    "        \n",
    "        if len(children[i]) != 0:               # if the list holding the child is not empty\n",
    "            child = np.array(children[i])\n",
    "            child.shape = (3,3)                  # reshape the list to proper dimension\n",
    "            heuristic = calc_heuristic(child, goal)           # calculate heuristic\n",
    "            child_g = node.get_g() + 1                        # calculate path cost\n",
    "            child_node = Node(puzzle=child, parent=node, g=child_g, h=heuristic)     # create a node for each child puzzle\n",
    "            \n",
    "            if child_node.get_h() == 0:                      # in this case, this is essentially the goal node. Add it to the open list so we can expand it\n",
    "                heapq.heappush(open_list, (heuristic, child_node))\n",
    "            \n",
    "            if not open_list_check(child_node, open_list) or closed_list:         # check the lists to see if this is node is already there\n",
    "                if child_node.get_h() < node.get_h():                            # if the child node has a better heuristic, add it to the list\n",
    "                    heapq.heappush(open_list, (heuristic, child_node))\n",
    "          \n",
    "    return open_list, closed_list"
   ]
  },
  {
   "cell_type": "code",
   "execution_count": 11,
   "id": "125750cd",
   "metadata": {},
   "outputs": [],
   "source": [
    "def AStar(initial_state, goal):\n",
    "    \n",
    "    initial_state = np.array(initial_state)                        # changing dimensions for ease of use\n",
    "    initial_state = np.resize(initial_state, (3,3))\n",
    "    \n",
    "    goal = np.array(goal)\n",
    "    goal = np.resize(goal, (3,3))\n",
    "    \n",
    "    if not is_solvable(initial_state):                            # checking inversions for solvability\n",
    "        print(\"oh no. this puzzle is not solvable\")\n",
    "        return\n",
    "        \n",
    "    root = Node(puzzle=initial_state, parent=None, g=0, h=calc_heuristic(initial_state, goal))  # create root node\n",
    "    open_list = []  \n",
    "    closed_list = []\n",
    "    nodes_expanded = 0\n",
    "\n",
    "\n",
    "    while True:\n",
    "        heapq.heappush(open_list, (root.get_h(), root))           # start the open list off with the root\n",
    "        heuristic, curr_node = heapq.heappop(open_list)           # unpack important info from list\n",
    "        closed_list.append(curr_node)\n",
    "        \n",
    "        if goal_test(curr_node, goal):                            # check if this node is the goal\n",
    "            print(\"yay! we found it! \\n\")\n",
    "            path = curr_node.get_path()\n",
    "            \n",
    "            for i in path:                                        # if it is, print some helpful stuff\n",
    "                print(\"step: \")\n",
    "                print(f\"{i.puzzle} \\n\")\n",
    "                print(f\"path cost: {i.get_g()} \\n\")\n",
    "            print(f\"total nodes expanded: {nodes_expanded}\")   \n",
    "            break\n",
    "        else:                      # if not, generate children so we can check some more nodes\n",
    "            open_list, closed_list = expandNode(curr_node, open_list, closed_list, goal)    \n",
    "            nodes_expanded += 1"
   ]
  },
  {
   "cell_type": "code",
   "execution_count": 12,
   "id": "97526082",
   "metadata": {},
   "outputs": [],
   "source": [
    "initial_state = [1,2,3,4,5,6,8,7,0]\n",
    "goal_state = [1,2,3,4,5,6,7,8,0]"
   ]
  },
  {
   "cell_type": "code",
   "execution_count": 13,
   "id": "3c6258cd",
   "metadata": {},
   "outputs": [
    {
     "name": "stdout",
     "output_type": "stream",
     "text": [
      "oh no. this puzzle is not solvable\n"
     ]
    }
   ],
   "source": [
    "AStar(initial_state, goal_state)"
   ]
  },
  {
   "cell_type": "code",
   "execution_count": 14,
   "id": "63c0c048",
   "metadata": {},
   "outputs": [],
   "source": [
    "initial_state = [[1,2,3], [4, 0, 5], [7, 8, 6]]\n",
    "goal_state = [[1,2,3], [4, 5, 6], [7, 8, 0]]"
   ]
  },
  {
   "cell_type": "code",
   "execution_count": 15,
   "id": "74f5c2b4",
   "metadata": {},
   "outputs": [
    {
     "name": "stdout",
     "output_type": "stream",
     "text": [
      "yay! we found it! \n",
      "\n",
      "step: \n",
      "[[1 2 3]\n",
      " [4 0 5]\n",
      " [7 8 6]] \n",
      "\n",
      "path cost: 0 \n",
      "\n",
      "step: \n",
      "[[1 2 3]\n",
      " [4 5 0]\n",
      " [7 8 6]] \n",
      "\n",
      "path cost: 1 \n",
      "\n",
      "step: \n",
      "[[1 2 3]\n",
      " [4 5 6]\n",
      " [7 8 0]] \n",
      "\n",
      "path cost: 2 \n",
      "\n",
      "total nodes expanded: 2\n"
     ]
    }
   ],
   "source": [
    "AStar(initial_state, goal_state)"
   ]
  },
  {
   "cell_type": "code",
   "execution_count": 16,
   "id": "46fdb977",
   "metadata": {},
   "outputs": [],
   "source": [
    "initial_state = [[1,0,3], [4, 2, 5], [7, 8, 6]]\n",
    "goal_state = [[1,2,3], [4, 5, 6], [7, 8, 0]]"
   ]
  },
  {
   "cell_type": "code",
   "execution_count": 17,
   "id": "0ca5447d",
   "metadata": {},
   "outputs": [
    {
     "name": "stdout",
     "output_type": "stream",
     "text": [
      "yay! we found it! \n",
      "\n",
      "step: \n",
      "[[1 0 3]\n",
      " [4 2 5]\n",
      " [7 8 6]] \n",
      "\n",
      "path cost: 0 \n",
      "\n",
      "step: \n",
      "[[1 2 3]\n",
      " [4 0 5]\n",
      " [7 8 6]] \n",
      "\n",
      "path cost: 1 \n",
      "\n",
      "step: \n",
      "[[1 2 3]\n",
      " [4 5 0]\n",
      " [7 8 6]] \n",
      "\n",
      "path cost: 2 \n",
      "\n",
      "step: \n",
      "[[1 2 3]\n",
      " [4 5 6]\n",
      " [7 8 0]] \n",
      "\n",
      "path cost: 3 \n",
      "\n",
      "total nodes expanded: 3\n"
     ]
    }
   ],
   "source": [
    "AStar(initial_state, goal_state)"
   ]
  },
  {
   "cell_type": "code",
   "execution_count": 18,
   "id": "9f968abe",
   "metadata": {},
   "outputs": [],
   "source": [
    "initial_state = [[1,2,3], [4, 5, 0], [7, 8, 6]]\n",
    "goal_state = [[1,2,3], [4, 5, 6], [7, 8, 0]]"
   ]
  },
  {
   "cell_type": "code",
   "execution_count": 19,
   "id": "f9f7f617",
   "metadata": {},
   "outputs": [
    {
     "name": "stdout",
     "output_type": "stream",
     "text": [
      "yay! we found it! \n",
      "\n",
      "step: \n",
      "[[1 2 3]\n",
      " [4 5 0]\n",
      " [7 8 6]] \n",
      "\n",
      "path cost: 0 \n",
      "\n",
      "step: \n",
      "[[1 2 3]\n",
      " [4 5 6]\n",
      " [7 8 0]] \n",
      "\n",
      "path cost: 1 \n",
      "\n",
      "total nodes expanded: 1\n"
     ]
    }
   ],
   "source": [
    "AStar(initial_state, goal_state)"
   ]
  },
  {
   "cell_type": "code",
   "execution_count": 20,
   "id": "389da8a8",
   "metadata": {},
   "outputs": [],
   "source": [
    "initial_state = [[1,2,3], [4, 5, 6], [7, 8, 0]]\n",
    "goal_state = [[1,2,3], [4, 5, 6], [7, 8, 0]]"
   ]
  },
  {
   "cell_type": "code",
   "execution_count": 21,
   "id": "596a8781",
   "metadata": {},
   "outputs": [
    {
     "name": "stdout",
     "output_type": "stream",
     "text": [
      "yay! we found it! \n",
      "\n",
      "step: \n",
      "[[1 2 3]\n",
      " [4 5 6]\n",
      " [7 8 0]] \n",
      "\n",
      "path cost: 0 \n",
      "\n",
      "total nodes expanded: 0\n"
     ]
    }
   ],
   "source": [
    "AStar(initial_state, goal_state)"
   ]
  },
  {
   "cell_type": "code",
   "execution_count": 22,
   "id": "93cb3250",
   "metadata": {},
   "outputs": [],
   "source": [
    "initial_state = [[1,2,3], [4, 5, 6], [8, 7, 0]]\n",
    "goal_state = [[1,2,3], [4, 5, 6], [7, 8, 0]]"
   ]
  },
  {
   "cell_type": "code",
   "execution_count": 23,
   "id": "8874c85a",
   "metadata": {},
   "outputs": [
    {
     "name": "stdout",
     "output_type": "stream",
     "text": [
      "oh no. this puzzle is not solvable\n"
     ]
    }
   ],
   "source": [
    "AStar(initial_state, goal_state)"
   ]
  },
  {
   "cell_type": "code",
   "execution_count": null,
   "id": "199e1ad0",
   "metadata": {},
   "outputs": [],
   "source": []
  },
  {
   "cell_type": "code",
   "execution_count": null,
   "id": "c8b692c9",
   "metadata": {},
   "outputs": [],
   "source": []
  }
 ],
 "metadata": {
  "kernelspec": {
   "display_name": "Python 3",
   "language": "python",
   "name": "python3"
  },
  "language_info": {
   "codemirror_mode": {
    "name": "ipython",
    "version": 3
   },
   "file_extension": ".py",
   "mimetype": "text/x-python",
   "name": "python",
   "nbconvert_exporter": "python",
   "pygments_lexer": "ipython3",
   "version": "3.8.8"
  }
 },
 "nbformat": 4,
 "nbformat_minor": 5
}
